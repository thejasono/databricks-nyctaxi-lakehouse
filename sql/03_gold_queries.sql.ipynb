{
 "cells": [
  {
   "cell_type": "code",
   "execution_count": 0,
   "metadata": {
    "application/vnd.databricks.v1+cell": {
     "cellMetadata": {},
     "inputWidgets": {},
     "nuid": "52235f08-8f06-4e97-bf49-7533b28e3d5b",
     "showTitle": false,
     "tableResultSettingsMap": {},
     "title": ""
    }
   },
   "outputs": [],
   "source": [
    "%sql\n",
    "-- Ad-hoc queries against GOLD.\n",
    "USE CATALOG main_nyctaxi;\n",
    "USE SCHEMA mart;\n",
    "\n",
    "-- Time series for dashboarding.\n",
    "SELECT pickup_date, trip_count, avg_fare, avg_trip_miles, total_revenue, revenue_per_mile\n",
    "FROM daily_kpis\n",
    "ORDER BY pickup_date;\n",
    "\n",
    "-- QA: most expensive sub-5 mile trips.\n",
    "SELECT pickup_date, vendor_id, trip_distance, fare_amount, pickup_zip, dropoff_zip\n",
    "FROM main_nyctaxi.ref.trips_valid\n",
    "WHERE trip_distance < 5 AND fare_amount > 50\n",
    "ORDER BY fare_amount DESC\n",
    "LIMIT 50;\n"
   ]
  }
 ],
 "metadata": {
  "application/vnd.databricks.v1+notebook": {
   "computePreferences": null,
   "dashboards": [],
   "environmentMetadata": {
    "base_environment": "",
    "environment_version": "3"
   },
   "inputWidgetPreferences": null,
   "language": "sql",
   "notebookMetadata": {
    "pythonIndentUnit": 4
   },
   "notebookName": "03_gold_queries.sql",
   "widgets": {}
  },
  "language_info": {
   "name": "sql"
  }
 },
 "nbformat": 4,
 "nbformat_minor": 0
}
