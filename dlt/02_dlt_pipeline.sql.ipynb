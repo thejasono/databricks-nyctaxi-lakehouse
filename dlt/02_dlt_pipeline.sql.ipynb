{
 "cells": [
  {
   "cell_type": "code",
   "execution_count": 0,
   "metadata": {
    "application/vnd.databricks.v1+cell": {
     "cellMetadata": {},
     "inputWidgets": {},
     "nuid": "d8de6003-8ef4-4f82-a8d2-39c456c34a0a",
     "showTitle": false,
     "tableResultSettingsMap": {},
     "title": ""
    }
   },
   "outputs": [],
   "source": [
    "-- DLT pipeline: Bronze \u2192 Silver \u2192 Gold with expectations.\n",
    "-- This file is run by the pipeline (not by the SQL warehouse directly).\n",
    "-- Within Delta Live Tables you attach this notebook as the pipeline's single task;\n",
    "-- DLT reads these statements, materializes the dependency graph, and schedules\n",
    "-- streaming/triggered runs on managed clusters without you invoking it from a SQL warehouse.\n",
    "-- Running it in a warehouse would only execute once, but the pipeline keeps it\n",
    "-- on a recurring schedule with checkpointing, lineage tracking, and SLA monitoring.\n",
    "\n",
    "-- BRONZE (choose ONE source):\n",
    "-- The pipeline treats Bronze as the raw landing zone. Pick exactly one option below\n",
    "-- based on how you ingested the taxi data.\n",
    "\n",
    "-- (A) If you created raw.taxi_raw via Auto Loader (01_auto_loader_bronze.sql):\n",
    "CREATE OR REFRESH STREAMING TABLE raw.taxi_bronze\n",
    "AS SELECT * FROM main_nyctaxi.raw.taxi_raw;\n",
    "\n",
    "-- (B) If you want the lowest-friction samples path:\n",
    "-- CREATE OR REFRESH STREAMING TABLE raw.taxi_bronze\n",
    "-- (CONSTRAINT trip_distance_positive EXPECT (trip_distance > 0) ON VIOLATION DROP ROW)\n",
    "-- AS SELECT * FROM STREAM(samples.nyctaxi.trips);\n",
    "\n",
    "-- SILVER: typing + pruning.\n",
    "-- Typing = casting raw strings into strongly typed TIMESTAMP/INT/DOUBLE columns so\n",
    "-- downstream logic can rely on schema enforcement.\n",
    "-- Pruning = filtering out obviously bad or irrelevant records before serving\n",
    "-- them to refined consumers (for example removing null trip distances/fare amounts).\n",
    "-- The result is a curated stream in the Unity Catalog schema `ref`.\n",
    "CREATE OR REFRESH STREAMING TABLE ref.trips_clean\n",
    "AS\n",
    "SELECT\n",
    "  CAST(tpep_pickup_datetime  AS TIMESTAMP) AS pickup_ts,\n",
    "  CAST(tpep_dropoff_datetime AS TIMESTAMP) AS dropoff_ts,\n",
    "  DATE(CAST(tpep_pickup_datetime AS TIMESTAMP)) AS pickup_date,\n",
    "  CAST(passenger_count AS INT)  AS passenger_count,\n",
    "  CAST(trip_distance  AS DOUBLE) AS trip_distance,\n",
    "  CAST(fare_amount    AS DOUBLE) AS fare_amount,\n",
    "  vendor_id, pickup_zip, dropoff_zip\n",
    "FROM LIVE.raw.taxi_bronze\n",
    "WHERE trip_distance IS NOT NULL AND fare_amount IS NOT NULL;\n",
    "-- `LIVE.` tells DLT to pull the latest managed version of the upstream table.\n",
    "-- The SELECT casts each column to an analytics-friendly type, derives a date key,\n",
    "-- and drops rows with missing distance or fare so later quality rules have a clean baseline.\n",
    "\n",
    "-- Expectations on the cleaned stream.\n",
    "-- This second layer applies declarative data-quality constraints on the curated stream.\n",
    "-- If a record fails these expectations it is automatically dropped (or could be quarantined\n",
    "-- with different severities), giving you an auditable filter before publishing to Gold.\n",
    "-- The resulting table lives alongside `trips_clean` in the `ref` schema.\n",
    "CREATE OR REFRESH STREAMING TABLE ref.trips_valid\n",
    "(\n",
    "  CONSTRAINT vendor_not_null EXPECT (vendor_id IS NOT NULL) ON VIOLATION DROP ROW,\n",
    "  CONSTRAINT nonnegative_fare EXPECT (fare_amount >= 0)     ON VIOLATION DROP ROW\n",
    ")\n",
    "AS SELECT * FROM LIVE.ref.trips_clean;\n",
    "\n",
    "-- GOLD: BI aggregates as MVs (eligible on Pro/Serverless SQL or inside the pipeline).\n",
    "-- Gold tables summarize Silver data for business intelligence. Here we build\n",
    "-- a materialized view so DLT (or Databricks SQL) maintains the aggregation incrementally\n",
    "-- each time new trips arrive. Materialized views persist their results in Delta storage\n",
    "-- refresh automatically, and expose history/time travel like any Delta table\u2014\n",
    "-- they are more than a one-time snapshot.\n",
    "-- `LIVE.ref.trips_valid` keeps dependency tracking intact so the pipeline refresh order\n",
    "-- and lineage graphs show Bronze \u2192 Silver \u2192 Gold relationships.\n",
    "CREATE OR REPLACE MATERIALIZED VIEW mart.daily_kpis AS\n",
    "SELECT\n",
    "  pickup_date,\n",
    "  COUNT(*)                           AS trip_count,\n",
    "  ROUND(AVG(fare_amount), 2)         AS avg_fare,\n",
    "  ROUND(AVG(trip_distance), 3)       AS avg_trip_miles,\n",
    "  ROUND(SUM(fare_amount), 2)         AS total_revenue,\n",
    "  ROUND(SUM(fare_amount) / NULLIF(SUM(trip_distance), 0), 3) AS revenue_per_mile\n",
    "FROM LIVE.ref.trips_valid\n",
    "GROUP BY pickup_date;\n"
   ]
  }
 ],
 "metadata": {
  "application/vnd.databricks.v1+notebook": {
   "computePreferences": null,
   "dashboards": [],
   "environmentMetadata": {
    "base_environment": "",
    "environment_version": "3"
   },
   "inputWidgetPreferences": null,
   "language": "sql",
   "notebookMetadata": {
    "pythonIndentUnit": 4
   },
   "notebookName": "02_dlt_pipeline.sql",
   "widgets": {}
  },
  "language_info": {
   "name": "sql"
  }
 },
 "nbformat": 4,
 "nbformat_minor": 0
}