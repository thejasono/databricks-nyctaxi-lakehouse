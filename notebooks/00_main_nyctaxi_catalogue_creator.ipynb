{
 "cells": [
  {
   "cell_type": "code",
   "execution_count": 0,
   "metadata": {
    "application/vnd.databricks.v1+cell": {
     "cellMetadata": {
      "byteLimit": 2048000,
      "implicitDf": true,
      "rowLimit": 10000
     },
     "inputWidgets": {},
     "nuid": "7aaf6d86-4153-4597-9ec2-411879203b50",
     "showTitle": false,
     "tableResultSettingsMap": {},
     "title": ""
    }
   },
   "outputs": [],
   "source": [
    "%sql\n",
    "-- 00_uc_setup.sql\n",
    "CREATE CATALOG IF NOT EXISTS main_nyctaxi COMMENT 'NYC Taxi demo';\n",
    "\n",
    "USE CATALOG main_nyctaxi;\n",
    "\n",
    "CREATE SCHEMA IF NOT EXISTS raw  COMMENT 'Bronze/Raw';\n",
    "CREATE SCHEMA IF NOT EXISTS ref  COMMENT 'Silver/Refined';\n",
    "CREATE SCHEMA IF NOT EXISTS mart COMMENT 'Gold/Marts';\n",
    "\n",
    "USE SCHEMA raw;\n",
    "\n",
    "CREATE VOLUME IF NOT EXISTS nyctaxi_landing\n",
    "COMMENT 'Landing area for uploaded NYC taxi files';\n"
   ]
  }
 ],
 "metadata": {
  "application/vnd.databricks.v1+notebook": {
   "computePreferences": null,
   "dashboards": [],
   "environmentMetadata": {
    "base_environment": "",
    "environment_version": "3"
   },
   "inputWidgetPreferences": null,
   "language": "python",
   "notebookMetadata": {
    "mostRecentlyExecutedCommandWithImplicitDF": {
     "commandId": 7674399460258989,
     "dataframes": [
      "_sqldf"
     ]
    },
    "pythonIndentUnit": 4
   },
   "notebookName": "00_main_nyctaxi_catalogue_creator",
   "widgets": {}
  },
  "language_info": {
   "name": "python"
  }
 },
 "nbformat": 4,
 "nbformat_minor": 0
}
