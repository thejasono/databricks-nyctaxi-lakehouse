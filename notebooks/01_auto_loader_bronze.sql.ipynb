{
 "cells": [
  {
   "cell_type": "code",
   "execution_count": 0,
   "metadata": {
    "application/vnd.databricks.v1+cell": {
     "cellMetadata": {},
     "inputWidgets": {},
     "nuid": "041ca140-c99d-410f-9848-589f4e0b954c",
     "showTitle": false,
     "tableResultSettingsMap": {},
     "title": ""
    }
   },
   "outputs": [],
   "source": [
    "%sql\n",
    "-- Auto Loader \u2192 Bronze streaming table (SQL cloud_files).\n",
    "-- Run after the Unity setup so Spark writes into the governed catalog and schema.\n",
    "USE CATALOG main_nyctaxi;\n",
    "-- The raw schema is the Bronze landing zone that holds immutable Delta tables for ingestion.\n",
    "USE SCHEMA raw;\n",
    "\n",
    "-- Spark Structured Streaming powers Auto Loader, so the streaming table stays in sync with new files.\n",
    "CREATE OR REFRESH STREAMING TABLE taxi_raw\n",
    "-- Delta handles ACID transactions and schema evolution for the Bronze layer.\n",
    "TBLPROPERTIES (pipelines.autoOptimize.managed = true)\n",
    "AS\n",
    "SELECT * FROM cloud_files(\n",
    "  'dbfs:/mnt/nyctaxi/input',          -- change to your mount or S3/ADLS URI\n",
    "  'csv',\n",
    "  map(\n",
    "    'cloudFiles.inferColumnTypes','true',\n",
    "    'cloudFiles.schemaEvolutionMode','addNewColumns',\n",
    "    'cloudFiles.useNotifications','true'           -- Auto Loader watches object storage for new files\n",
    "  )\n",
    ");\n"
   ]
  }
 ],
 "metadata": {
  "application/vnd.databricks.v1+notebook": {
   "computePreferences": null,
   "dashboards": [],
   "environmentMetadata": {
    "base_environment": "",
    "environment_version": "3"
   },
   "inputWidgetPreferences": null,
   "language": "sql",
   "notebookMetadata": {
    "pythonIndentUnit": 4
   },
   "notebookName": "01_auto_loader_bronze.sql",
   "widgets": {}
  },
  "language_info": {
   "name": "sql"
  }
 },
 "nbformat": 4,
 "nbformat_minor": 0
}