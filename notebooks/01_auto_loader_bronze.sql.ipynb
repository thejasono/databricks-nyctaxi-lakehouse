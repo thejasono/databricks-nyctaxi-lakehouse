{
 "cells": [
  {
   "cell_type": "code",
   "execution_count": 0,
   "metadata": {
    "application/vnd.databricks.v1+cell": {
     "cellMetadata": {},
     "inputWidgets": {},
     "nuid": "041ca140-c99d-410f-9848-589f4e0b954c",
     "showTitle": false,
     "tableResultSettingsMap": {},
     "title": ""
    }
   },
   "outputs": [],
   "source": [
    "%sql\n",
    "-- Auto Loader → Bronze streaming table (SQL cloud_files).\n",
    "USE CATALOG main_nyctaxi;\n",
    "USE SCHEMA raw;\n",
    "\n",
    "CREATE OR REFRESH STREAMING TABLE taxi_raw\n",
    "TBLPROPERTIES (pipelines.autoOptimize.managed = true)\n",
    "AS\n",
    "SELECT * FROM cloud_files(\n",
    "  'dbfs:/mnt/nyctaxi/input',          -- change to your mount or S3/ADLS URI\n",
    "  'csv',\n",
    "  map(\n",
    "    'cloudFiles.inferColumnTypes','true',\n",
    "    'cloudFiles.schemaEvolutionMode','addNewColumns'\n",
    "  )\n",
    ");\n"
   ]
  }
 ],
 "metadata": {
  "application/vnd.databricks.v1+notebook": {
   "computePreferences": null,
   "dashboards": [],
   "environmentMetadata": {
    "base_environment": "",
    "environment_version": "3"
   },
   "inputWidgetPreferences": null,
   "language": "sql",
   "notebookMetadata": {
    "pythonIndentUnit": 4
   },
   "notebookName": "01_auto_loader_bronze.sql",
   "widgets": {}
  },
  "language_info": {
   "name": "sql"
  }
 },
 "nbformat": 4,
 "nbformat_minor": 0
}
